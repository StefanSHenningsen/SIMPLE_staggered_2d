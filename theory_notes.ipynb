{
 "cells": [
  {
   "cell_type": "markdown",
   "metadata": {},
   "source": [
    "# Notes on staggered grids and SIMPLE method for solving 2d flows"
   ]
  },
  {
   "cell_type": "markdown",
   "metadata": {},
   "source": [
    "## Equations for momentum and pressure\n",
    "\n",
    "This section follows p. 188 F-book"
   ]
  },
  {
   "cell_type": "markdown",
   "metadata": {},
   "source": [
    "$$\n",
    "\\begin{align}\n",
    "\\tag{1.1}\n",
    "\\int_S \\rho \\vec{v} \\cdot \\vec{n} dS = 0\n",
    "\\end{align}\n",
    "$$\n",
    "$$\n",
    "\\begin{align}\n",
    "\\tag{1.2}\n",
    "\\frac{\\partial}{\\partial t} \\int_\\Omega \\rho v_i d\\Omega + \\int_S \\rho v_i (\\vec{v}\\cdot\\vec{n}) dS = -\\int_S P(\\vec{i}_i\\cdot\\vec{n}) dS + \\int_S \\tau_{ij}(\\vec{i}_j\\cdot\\vec{n})dS + \\int_\\Omega(\\rho - \\rho_0) g_i d\\Omega\n",
    "\\end{align}\n",
    "$$\n"
   ]
  },
  {
   "cell_type": "markdown",
   "metadata": {},
   "source": [
    "We will now put these equations on algebraic form, so they can be solved numerically. Here we will use finite volume method of second order in both time and space."
   ]
  },
  {
   "cell_type": "markdown",
   "metadata": {},
   "source": [
    "For the first term on the RHS we use a second order implicit 3 time level scheme, and get\n",
    "\n",
    "$$\n",
    "\\tag{2}\n",
    "\\int_S \\rho \\vec{v} \\cdot \\vec{n} dS  = \\frac{\\rho}{2} \\frac{\\Delta \\Omega}{\\Delta t}\\left(3u_i^{n+1} - 4 u_i^n + u_i^{n-1}\\right) = A_P^t u_{i,P}^{n+1} - Q_{u_i}^t\n",
    "$$\n",
    "where\n",
    "$$\n",
    "A_P^t = \\frac{3\\rho\\Delta \\Omega}{2\\Delta t}, \\quad Q_{u_i}^t = \\frac{\\rho\\Delta \\Omega}{2\\Delta t}(4u_i^n - u_i^{n-1}).\n",
    "$$\n"
   ]
  },
  {
   "cell_type": "markdown",
   "metadata": {},
   "source": [
    "For the advection term we use a second order central difference method and linearize the equations (Picard iteration)\n"
   ]
  },
  {
   "cell_type": "markdown",
   "metadata": {},
   "source": []
  },
  {
   "cell_type": "markdown",
   "metadata": {},
   "source": []
  },
  {
   "cell_type": "markdown",
   "metadata": {},
   "source": []
  },
  {
   "cell_type": "markdown",
   "metadata": {},
   "source": []
  }
 ],
 "metadata": {
  "language_info": {
   "name": "python"
  }
 },
 "nbformat": 4,
 "nbformat_minor": 2
}
